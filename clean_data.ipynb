{
 "cells": [
  {
   "cell_type": "code",
   "execution_count": 5,
   "metadata": {},
   "outputs": [],
   "source": [
    "import pandas as pd"
   ]
  },
  {
   "cell_type": "code",
   "execution_count": 16,
   "metadata": {},
   "outputs": [],
   "source": [
    "df = pd.read_csv('sql\\space_data\\satelites.csv')\n",
    "\n",
    "# Replace empty strings with NaN\n",
    "df.replace('', float('nan'), inplace=True)\n",
    "\n",
    "# Save the clean file\n",
    "df.to_csv('sql\\space_data\\satelites.csv', index=False)\n"
   ]
  },
  {
   "cell_type": "code",
   "execution_count": 7,
   "metadata": {},
   "outputs": [],
   "source": [
    "df = pd.read_excel('./sql/space_data/UCS_satelites_data.xlsx', engine='openpyxl')\n",
    "df.replace('', float('nan'), inplace=True)\n",
    "df.to_csv('sql/space_data/UCS_satelites_data.csv', sep=';', index=False)"
   ]
  }
 ],
 "metadata": {
  "kernelspec": {
   "display_name": "sb_analytics",
   "language": "python",
   "name": "python3"
  },
  "language_info": {
   "codemirror_mode": {
    "name": "ipython",
    "version": 3
   },
   "file_extension": ".py",
   "mimetype": "text/x-python",
   "name": "python",
   "nbconvert_exporter": "python",
   "pygments_lexer": "ipython3",
   "version": "3.11.9"
  }
 },
 "nbformat": 4,
 "nbformat_minor": 2
}
